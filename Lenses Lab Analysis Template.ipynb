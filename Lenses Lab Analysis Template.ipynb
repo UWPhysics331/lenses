{
 "cells": [
  {
   "cell_type": "markdown",
   "metadata": {},
   "source": [
    "# Lenses Experiment Analysis\n",
    "\n",
    "Use this template as a starting point to carry out the analysis tasks.  For reference, here are links to recommended Python resources: the [Whirlwind Tour of Python](https://jakevdp.github.io/WhirlwindTourOfPython/) and the [Python Data Science Handbook](https://jakevdp.github.io/PythonDataScienceHandbook/) both by Jake VanderPlas.\n",
    "\n",
    "## Standard Packages\n",
    "\n",
    "This is a good idea at the beginning of your notebook to include the packages that you will need.  We will use those shown below here.  A brief description:\n",
    "* `numpy` is the foundational package for Python numerical work. It extends and speeds up array operations beyond standard Python, and it includes almost all math functions that you would need for example `sqrt()` (square root) or `cos()` (cosine).  These would be written in code as `np.sqrt()` or `np.cos()`.\n",
    "* `scipy` is a huge collection of scientific data analysis functions, routines, physicical constants, etc.  This is the second most used package for scientific work. Here we will use the physical constants library, `scipy.constants`.  Documentation is at [SciPy.org](https://docs.scipy.org/doc/scipy/reference/) with the constants subpackage at https://docs.scipy.org/doc/scipy/reference/constants.html.\n",
    "* `uncertainties` is a very useful small package that simplifies uncertainty propagation and printing out of quantities with uncertainty. Documentation is at https://pythonhosted.org/uncertainties/\n",
    "* `matplotlib` is *the* standard plotting package for scientific Python.  We will use a subset called `pyplot` which is modeled after the plotting functions used in MATLAB. The last line below, `%matplotlib inline`, simply forces the plots to appear within the notebook.\n",
    "* `pandas` is a large data science package.  It's main feature is a set of methods to create and manipulate a \"DataFrame,\" which is an enlargement of the idea of an array.  I plays well with NumPy and other packages.  We will use it mainly as a way to read files into data sets in an easy way.\n",
    "* [LMFit](https://lmfit.github.io/lmfit-py/) is excellent for carrying out line and curve fits with many useful features."
   ]
  },
  {
   "cell_type": "markdown",
   "metadata": {},
   "source": [
    "## Getting Help\n",
    "\n",
    "See the example code for a wide range of actions in notebooks created by Prof. Marjorie Olmstead and Prof. David Pengra in this repository: [**UWPhysics331/Examples**](https://github.com/UWPhysics331/Examples).\n",
    "\n",
    "You can pull the examples into your environment with the following command.  (Only do this once, or you will get an error):\n",
    "\n",
    "    git clone https://github.com/UWPhysics331/Examples"
   ]
  },
  {
   "cell_type": "markdown",
   "metadata": {},
   "source": [
    "## Load Libraries\n",
    "\n",
    "You need more than bare Python to do much (unless you like to code everything from scratch).  Load in the standard packages by executing the following cell."
   ]
  },
  {
   "cell_type": "code",
   "execution_count": null,
   "metadata": {},
   "outputs": [],
   "source": [
    "# Run this cell with Shift-Enter, and wait until the \n",
    "# asterisk changes to a number, i.e., [*] becomes [1]\n",
    "import numpy as np\n",
    "import scipy.constants as const\n",
    "import uncertainties as unc\n",
    "import matplotlib.pyplot as plt\n",
    "import pandas as pd\n",
    "%matplotlib inline"
   ]
  },
  {
   "cell_type": "markdown",
   "metadata": {},
   "source": [
    "## Read in the data\n",
    "\n",
    "There are many ways to enter data for analysis:\n",
    "\n",
    "1. **Create arrays directly.** This is the quickest if you do not have any computer files (spreadsheets or text files) with the data set you want to analyze already.  But it is the least flexible.  Your life will be easier if you adopt one of the following methods.\n",
    "2. **Read a text file with `np.loadtxt()`.**  This is a relatively simple function that will read in a single \"Comma Separated Value\" (CSV) file and store its contents into NumPy arrays.\n",
    "3. **Read in a CSV file with `pd.read_csv()`.** This works similarly to **loadtxt()** but it is more forgiving of mixed data types.  It also creates a Pandas DataFrame rather than a NumPy array.\n",
    "4. **Read an Excel file with `pd.read_excel()`.** The Pandas library has some very powerful and easy to use function that can swallow a whole multi-worksheet Excel file in one call.  It makes a Python \"dictionary\" (type is `dict`) of Pandas DataFrames, with each DataFrame being one Excel sheet.\n",
    "\n",
    "Here is how to do three of the above methods. ***You only need to use one of them.***"
   ]
  },
  {
   "cell_type": "markdown",
   "metadata": {},
   "source": [
    "### Method 1: Enter data directly\n",
    "\n",
    "Pay close attention to the syntax in the following statements.  This will create two numpy arrays of angles."
   ]
  },
  {
   "cell_type": "code",
   "execution_count": null,
   "metadata": {},
   "outputs": [],
   "source": [
    "theta_inc = np.array([10.0, 20.0, 30.0, 40.0, 50.0, 60.0, 70.0, 80.0])\n",
    "theta_refr = np.array([]) # You would need to fill this in with the corresponding outout angles"
   ]
  },
  {
   "cell_type": "markdown",
   "metadata": {},
   "source": [
    "### Method 2: read in a CSV file with `np.loadtxt()`\n",
    "\n",
    "You should study the documentation of any NumPy function that you use.  That is how will learn to solve more challenging coding problems."
   ]
  },
  {
   "cell_type": "code",
   "execution_count": null,
   "metadata": {
    "scrolled": true
   },
   "outputs": [],
   "source": [
    "# \"skiprows\" jumps over the rwo with the column headings.\n",
    "# The default delimiter is a space, by a CSV file uses commas\n",
    "#\n",
    "# YOU NEED TO HAVE A CSV DATA FILE TO RUN THIS\n",
    "#\n",
    "SL_data = np.loadtxt(\"snells_law_data.csv\",delimiter=',',skiprows=1)\n",
    "SL_data # This prints out a default listing of what is read in.\n",
    "\n",
    "# Extract a column of the array.  \n",
    "theta_inc = SL_data[:,0]\n",
    "theta_inc\n"
   ]
  },
  {
   "cell_type": "markdown",
   "metadata": {},
   "source": [
    "### Method 3: read in an Excel file with `pd.read_excel()`\n",
    "\n",
    "The data structure returned from this is more complex.  It is a Python \"dict\" whose entries are Pandas \"DataFrames\".  Each DataFrame is like a 2D array, but the data type of the whole DataFrame is not fixed to one type, unlike for NumPy arrays.  But the command is very easy to use."
   ]
  },
  {
   "cell_type": "code",
   "execution_count": null,
   "metadata": {},
   "outputs": [],
   "source": [
    "# \"sheet_name\" allows you to specify which sheet to read in.  Setting it to \"None\"\n",
    "#     reads in all sheets\n",
    "#\n",
    "# YOU NEED TO HAVE An EXCEL (.xlsx) DATA FILE TO RUN THIS\n",
    "#\n",
    "Lenses_data = pd.read_excel(\"Lenses_lab_data.xlsx\", sheet_name=None)\n",
    "for item in Lenses_data:\n",
    "    print('Sheet name: ',item)\n",
    "    print(Lenses_data[item])\n",
    "    \n",
    "# Extract a column (labeled 'theta_inc') from the first worksheet (called 'snells_law_data').  \n",
    "# Your labels may be different\n",
    "\n",
    "theta_inc = Lenses_data['snells_law_data']['theta_inc']\n",
    "theta_inc"
   ]
  },
  {
   "cell_type": "markdown",
   "metadata": {},
   "source": [
    "## 1. Snell's Law\n",
    "\n",
    "You want to plot $\\sin\\theta_1$ versus $\\sin\\theta_2$ and get the slope of the line.  First, convert the angles to radians with the conversion constant `const.degree`.  Then, feed it into the `np.sin()` function.  Notoice how you do not need to loop over any arrays.  That is the beauty of NumPy!"
   ]
  },
  {
   "cell_type": "code",
   "execution_count": null,
   "metadata": {},
   "outputs": [],
   "source": [
    "# Here is an example for one array \n",
    "# Make another array with the output angles\n",
    "sin_theta_1 = np.sin(theta_inc*const.degree)\n",
    "\n",
    "# here is an example of a basic table\n",
    "# zip() ties two arrays together for iteration\n",
    "#\n",
    "print('Theta_1 |  sin(theta_1)')\n",
    "print('--------|--------------')\n",
    "for angle, sin_angle in zip(theta_inc,sin_theta_1):\n",
    "    print('{0:7.1f} | {1:7.4f}'.format(angle,sin_angle))\n"
   ]
  },
  {
   "cell_type": "markdown",
   "metadata": {},
   "source": [
    "### Make a plot\n",
    "\n",
    "See how to make a simple plot and a simple fit using Matplotlib PyPlot commands in the [**UWPhysics331/Examples**](https://github.com/UWPhysics331/Examples).   In particular, scroll down to **Making Plots** in the notebook file [Python Use Examples by Olmstead and Pengra](https://github.com/UWPhysics331/Examples/blob/main/Python%20Use%20Examples%20by%20Olmstead%20and%20Pengra.ipynb).  (Unfortunately for the index links to work, you need to download the file from GitHub.  See the beginning of this notebook for how to do that.)"
   ]
  },
  {
   "cell_type": "code",
   "execution_count": null,
   "metadata": {},
   "outputs": [],
   "source": [
    "# Useful plot default settings.  These make bigger fonts and bigger plots than the defaults (which are pretty small).\n",
    "import matplotlib\n",
    "matplotlib.rcParams['figure.figsize'] = 12.0,6.0  # Roughly 12 cm wde by 8 cm high\n",
    "matplotlib.rcParams['font.size'] = 14.0 # Use 14 point font"
   ]
  },
  {
   "cell_type": "code",
   "execution_count": null,
   "metadata": {},
   "outputs": [],
   "source": [
    "#\n",
    "# Make a plot here\n",
    "\n"
   ]
  },
  {
   "cell_type": "markdown",
   "metadata": {},
   "source": [
    "#### Make a fit-line and add it to the plot.  \n",
    "\n",
    "When using `polyfit()`, you can pass the parameters to a special function that creates a fit function from the parameters as follows."
   ]
  },
  {
   "cell_type": "code",
   "execution_count": null,
   "metadata": {},
   "outputs": [],
   "source": [
    "# The first line does a fit, and returns the fitting coefficients\n",
    "#\n",
    "# Update for your data set.\n",
    "\n",
    "my_coeff_ap = np.polyfit(sin_theta_1,sin_theta_2,1) # This fits a line (degree-1 polynomial)\n",
    "#\n",
    "print('Air to plastic:')\n",
    "print(my_coeff_ap)\n",
    "print('Intercept = {:.4f}'.format(my_coeff_ap[1]))\n",
    "print('Slope = {:.4f}'.format(my_coeff_ap[0]))"
   ]
  },
  {
   "cell_type": "markdown",
   "metadata": {},
   "source": [
    "This makes a function out of the fitline:"
   ]
  },
  {
   "cell_type": "code",
   "execution_count": null,
   "metadata": {},
   "outputs": [],
   "source": [
    "# The poly1d function uses the coefficients and creates a function of them\n",
    "#\n",
    "fitline = np.poly1d(my_coeff_ap)  # This makes a polynomial function from the coefficients\n",
    "print('Plastic to air fitline: ',np.poly1d(fitline))"
   ]
  },
  {
   "cell_type": "markdown",
   "metadata": {},
   "source": [
    "Add the fitline to your plot."
   ]
  },
  {
   "cell_type": "code",
   "execution_count": null,
   "metadata": {},
   "outputs": [],
   "source": [
    "# Copy your plotting commands from above, and include the following to make a line\n",
    "#\n",
    "plt.plot(sin_theta_1, fitline(sin_theta_1),'-',label=\"Fit to data\")\n"
   ]
  },
  {
   "cell_type": "markdown",
   "metadata": {},
   "source": [
    "Calculate the index of refraction from the fit results."
   ]
  },
  {
   "cell_type": "code",
   "execution_count": null,
   "metadata": {},
   "outputs": [],
   "source": [
    "# Write the formula that calculate the index from the fit\n",
    "\n",
    "n_lens = # complete this side of the equation\n",
    "\n",
    "print('Index of refraction of the lens material = {:.4f}'.format(n_lens))\n"
   ]
  },
  {
   "cell_type": "markdown",
   "metadata": {},
   "source": [
    "## 2. Gaussian Lens Formula\n",
    "\n",
    "Need these steps:\n",
    "\n",
    "1. Complete the table to include $s_o$ (object-lens distance), $s_i$ (image-lens distance), and the ratios $y_i/y_o$ and $-s_i/s_0$.\n",
    "2. Plot and fit $1/s_i$ versus $1/s_o$.  The slope should be $-1$ and the intercept should be $1/f$ where $f$ is the lens focal length.\n",
    "3. Look at the table: the ratios $y_i/y_o$ and $-s_i/s_0$ in step 1 should be (close to) the same and give the transverse magnification of the image."
   ]
  },
  {
   "cell_type": "markdown",
   "metadata": {},
   "source": [
    "### 2.1 Make a table\n",
    "\n",
    "Pandas DataFrames make nice looking tables in a Juptyer notebook.  Here is how to construct them from NumPy arrays"
   ]
  },
  {
   "cell_type": "code",
   "execution_count": null,
   "metadata": {},
   "outputs": [],
   "source": [
    "# Assume you have the following NumPy arrays for this part of the analysis\n",
    "#\n",
    "x_lens = # Position of the lens on the track, in cm\n",
    "x_img =  # Position of the viewing screen when the image is in focus, in cm\n",
    "y_obj =  # Dimension of the object, in mm (e.g. the inner diameter of the ring)\n",
    "y_img =  # Dimension of the image of the object, in mm.  If the image is inverted, these numbers should be negative\n",
    "\n",
    "# define the following constant:\n",
    "#\n",
    "x_o = 15.0 # Position of object in cm\n",
    "\n",
    "# Now build a dataframe\n",
    "\n",
    "GLL_results = pd.DataFrame()               # create the empty dataframe\n",
    "\n",
    "# Each of the statements below adds a column to the dataframe\n",
    "#\n",
    "GLL_results['s_o (cm)'] = x_lens - x_o     # Subtracts object position from each lens position \n",
    "GLL_results['s_i (cm)'] = x_img - x_lens   # Subtracts each lens position from each image position\n",
    "GLL_results['y_i/y_o'] = y_img/y_obj       # Ratios of image and object sizes\n",
    "GLL_results['-s_i/s_o'] = -GLL_results['s_i (cm)']/GLL_results['s_o (cm)'] # Ratios of image and object distances\n",
    "\n",
    "# This las statement would print a nice table\n",
    "#\n",
    "GLL_results\n"
   ]
  },
  {
   "cell_type": "markdown",
   "metadata": {},
   "source": [
    "Study the table you just made. You will need to discuss it in your experiment Notebook"
   ]
  },
  {
   "cell_type": "markdown",
   "metadata": {},
   "source": [
    "### 2.2 Plot\n",
    "\n",
    "Plot $1/s_i$ versus $1/s_o$ and have a look.  It should be a straight line.  "
   ]
  },
  {
   "cell_type": "code",
   "execution_count": null,
   "metadata": {},
   "outputs": [],
   "source": [
    "#  You code this.  Follow earlier examples\n",
    "#\n",
    "\n",
    "# Note how to make labels with math expressions in them:\n",
    "# plt.xlabel(r'$1/s_o$ (cm$^{-1}$)')\n",
    "# plt.ylabel(r'$1/s_i$ (cm$^{-1}$)')\n"
   ]
  },
  {
   "cell_type": "markdown",
   "metadata": {},
   "source": [
    "### Fit the data.\n",
    "\n",
    "I will use LMFit for this.  See the examples for how to set it up in [Python Use Examples by Olmstead and Pengra](https://github.com/UWPhysics331/Examples/blob/main/Python%20Use%20Examples%20by%20Olmstead%20and%20Pengra.ipynb).  Scroll down to **Fitting Data with LMFit**.\n",
    "\n",
    "The code below also works once you create the arrays `inv_s_i` and `inv_s_o`."
   ]
  },
  {
   "cell_type": "code",
   "execution_count": null,
   "metadata": {},
   "outputs": [],
   "source": [
    "# Make these arrays from your DataFrame\n",
    "#\n",
    "inv_s_i = # Complete this line\n",
    "inv_s_o = # Complete this line"
   ]
  },
  {
   "cell_type": "code",
   "execution_count": null,
   "metadata": {},
   "outputs": [],
   "source": [
    "# Import the model.\n",
    "# You only do this once in a notebook\n",
    "from lmfit.models import LinearModel"
   ]
  },
  {
   "cell_type": "code",
   "execution_count": null,
   "metadata": {},
   "outputs": [],
   "source": [
    "# Make an instance of the model\n",
    "line0 = LinearModel()\n",
    "\n",
    "# Create the parameters and guess their starting values\n",
    "param_guess = line0.guess(inv_s_i, x=inv_s_o)\n",
    "\n",
    "# Fit the line, and print the results\n",
    "line_fit0 = line0.fit(inv_s_i, param_guess, x=inv_s_o)\n",
    "line_fit0"
   ]
  },
  {
   "cell_type": "markdown",
   "metadata": {},
   "source": [
    "### Make a plot of the fit\n",
    "\n",
    "The folowing will make a nice plot with fit and set the axes labels and title."
   ]
  },
  {
   "cell_type": "code",
   "execution_count": null,
   "metadata": {},
   "outputs": [],
   "source": [
    "line_fit0.plot()\n",
    "plt.grid(True)\n",
    "plt.xlabel(r'$1/s_o$ (cm$^{-1}$)')\n",
    "plt.ylabel(r'$1/s_i$ (cm$^{-1}$)')\n",
    "plt.xlim(0,0.14)\n",
    "plt.ylim(0,0.14)\n",
    "plt.title(\"Gaussian Lens Law relation for 75mm convex lens\");"
   ]
  },
  {
   "cell_type": "markdown",
   "metadata": {},
   "source": [
    "### Find the focal length\n",
    "\n",
    "The focal length $f$ should be the inverse of the y-intercept.  Watch units!"
   ]
  },
  {
   "cell_type": "code",
   "execution_count": null,
   "metadata": {},
   "outputs": [],
   "source": [
    "# The fit parameters are called 'slope' and 'intercept'  You want the inverse of the intercept to\n",
    "# obtain the focal length.  Note the multiplication by 10 to convert to mm.\n",
    "#\n",
    "f = 1/line_fit0.params['intercept'].value\n",
    "print('Measured focal length of \"75 mm\" convex lens = {:.2f} mm'.format(10*f))"
   ]
  },
  {
   "cell_type": "markdown",
   "metadata": {},
   "source": [
    "### Extra: include uncertainty\n",
    "\n",
    "Uncertainty propagation can be handled easily with the **Uncertainties** package.  You simply create an object that has uncertainty with it and calculate as usual to propagate automatically.\n",
    "\n",
    "See more in the example file [Python Use Examples by Olmstead and Pengra](https://github.com/UWPhysics331/Examples/blob/main/Python%20Use%20Examples%20by%20Olmstead%20and%20Pengra.ipynb).  Scroll down to **Uncertainty Calculations - The Uncertainties package**."
   ]
  },
  {
   "cell_type": "code",
   "execution_count": null,
   "metadata": {},
   "outputs": [],
   "source": [
    "u_inv_f = unc.ufloat(line_fit0.params['intercept'].value,line_fit0.params['intercept'].stderr)\n",
    "u_f = 1/u_inv_f\n",
    "print('Measured focal length of \"75 mm\" convex lens = {:.2u} mm'.format(10*u_f))"
   ]
  },
  {
   "cell_type": "code",
   "execution_count": null,
   "metadata": {},
   "outputs": [],
   "source": []
  }
 ],
 "metadata": {
  "kernelspec": {
   "display_name": "Python 3",
   "language": "python",
   "name": "python3"
  },
  "language_info": {
   "codemirror_mode": {
    "name": "ipython",
    "version": 3
   },
   "file_extension": ".py",
   "mimetype": "text/x-python",
   "name": "python",
   "nbconvert_exporter": "python",
   "pygments_lexer": "ipython3",
   "version": "3.7.3"
  }
 },
 "nbformat": 4,
 "nbformat_minor": 2
}
